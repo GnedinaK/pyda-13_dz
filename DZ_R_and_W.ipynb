{
 "cells": [
  {
   "cell_type": "code",
   "execution_count": null,
   "metadata": {},
   "outputs": [],
   "source": [
    "# Задание 1 (1.новый словарь; 2.новый csv)\n",
    "\n",
    "import json\n",
    "\n",
    "# purchases = {}\n",
    "\n",
    "with open('purchase_log.txt', encoding='utf-8') as f:\n",
    "    next(f)\n",
    "    for line in f:\n",
    "        line = line.strip()\n",
    "        purchase = json.loads(line)\n",
    "        purchases[purchase['user_id']] = purchase['category']\n",
    "        \n",
    "with open('visit_log.csv', 'r', encoding='utf-8') as f2:\n",
    "    with open('funnel.csv', 'w', encoding='utf-8') as funnel_write:\n",
    "        next(f2)\n",
    "        funnel_write.write('user_id,source,category\\n')\n",
    "        for user_lead in f2:\n",
    "            user_lead = user_lead.strip().split(',')\n",
    "            if purchases.get(user_lead[0]) != None: \n",
    "                funnel_write.write(f'{user_lead[0]},{user_lead[1]},{purchases.get(user_lead[0])}\\n')"
   ]
  }
 ],
 "metadata": {
  "kernelspec": {
   "display_name": "Python 3",
   "language": "python",
   "name": "python3"
  },
  "language_info": {
   "codemirror_mode": {
    "name": "ipython",
    "version": 3
   },
   "file_extension": ".py",
   "mimetype": "text/x-python",
   "name": "python",
   "nbconvert_exporter": "python",
   "pygments_lexer": "ipython3",
   "version": "3.8.3"
  }
 },
 "nbformat": 4,
 "nbformat_minor": 4
}
