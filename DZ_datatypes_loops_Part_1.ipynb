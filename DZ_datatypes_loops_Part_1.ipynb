{
 "cells": [
  {
   "cell_type": "code",
   "execution_count": null,
   "metadata": {},
   "outputs": [],
   "source": [
    "# Задание 1: средняя буква слова с нечетным и средний слог с четным\n",
    "# В задании переменная с латинскими буквами, почему? с любым же алфавитом работает?\n",
    "\n",
    "user_input = input('')\n",
    "\n",
    "if len(user_input) %2 == 0:\n",
    "    print('Средний слог -', user_input[int(len(user_input) / 2) - 1], user_input[int(len(user_input) / 2)])\n",
    "elif len(user_input) %2 != 0:\n",
    "    print('Средняя буква -', user_input[int(len(user_input) / 2)])"
   ]
  },
  {
   "cell_type": "code",
   "execution_count": null,
   "metadata": {},
   "outputs": [],
   "source": [
    "# Задание 2: сумма ранее введенных чисел отображается при вводе 0\n",
    "\n",
    "user_input = int(input())\n",
    "all_input = 0\n",
    "\n",
    "while user_input != 0:\n",
    "    all_input += user_input\n",
    "    user_input = int(input())\n",
    "    pass\n",
    "if user_input == 0:\n",
    "    print('Сумма ранее введенных чисел =', all_input)\n",
    "    print('Расчёт окончен')"
   ]
  },
  {
   "cell_type": "code",
   "execution_count": null,
   "metadata": {},
   "outputs": [],
   "source": [
    "# Задание 3: идеальные пары\n",
    "# Вариант с равным кол-м имен в исходном списке\n",
    "\n",
    "boys = ['Peter', 'Alex', 'John', 'Arthur', 'Richard']\n",
    "girls = ['Kate', 'Liza', 'Kira', 'Emma', 'Trisha']\n",
    "if len(boys) != len(girls):\n",
    "    print('Внимание! кто-то может остаться без пары') \n",
    "elif len(boys) == len(girls):\n",
    "    boys_and_girls = zip(sorted(boys), sorted(girls))\n",
    "    print('Идеальные пары:', '\\n') \n",
    "for couple in boys_and_girls:\n",
    "    print(couple[0], '+', couple[1])    "
   ]
  },
  {
   "cell_type": "code",
   "execution_count": null,
   "metadata": {},
   "outputs": [],
   "source": [
    "# Задание 3: идеальные пары\n",
    "# Вариант с неравным кол-м имен в исходном списке\n",
    "\n",
    "boys = ['Alex', 'John', 'Arthur', 'Richard']\n",
    "girls = ['Kate', 'Liza', 'Kira', 'Emma', 'Trisha']\n",
    "if len(boys) != len(girls):\n",
    "    print('Внимание! Кто-то может остаться без пары!') \n",
    "elif len(boys) == len(girls):\n",
    "    boys_and_girls = zip(sorted(boys), sorted(girls))\n",
    "    print('Идеальные пары:', '\\n') \n",
    "for couple in boys_and_girls:\n",
    "    print(couple)     "
   ]
  },
  {
   "cell_type": "code",
   "execution_count": null,
   "metadata": {},
   "outputs": [],
   "source": [
    "# Задание 3: можно и с русским алфавитом\n",
    "\n",
    "boys = ['Михаил', 'Евгений', 'Алексей', 'Захар', 'Илья']\n",
    "girls = ['Александра', 'Евгения', 'Кира', 'Марина', 'Алсу']\n",
    "if len(boys) != len(girls):\n",
    "    print('Внимание! кто-то может остаться без пары') \n",
    "elif len(boys) == len(girls):\n",
    "    boys_and_girls = zip(sorted(boys), sorted(girls))\n",
    "    print('Идеальные пары:', '\\n') \n",
    "for couple in boys_and_girls:\n",
    "    print(couple[0], '+', couple[1])    "
   ]
  },
  {
   "cell_type": "code",
   "execution_count": null,
   "metadata": {},
   "outputs": [],
   "source": [
    "# Задание 4\n",
    "# Вариант 1: средние температуры (города, период 7 дней 17-23 августа)\n",
    "\n",
    "cities_temperature = [\n",
    "    ['Санкт-Петербург', [66.2, 66.2, 69.8, 71.6, 71.6, 73.4, 69.8]], \n",
    "    ['Екатеринбург', [55.4, 57.2, 51.8, 55.4, 62.6, 64.4, 64.4]], \n",
    "    ['Ноябрьск', [60.8, 68, 64.4, 66.2, 66.2, 60.8, 62.6]], \n",
    "    ['Уфа', [62.6, 59, 57.2, 60.8, 60.8, 68, 68]]\n",
    "]\n",
    "\n",
    "print('Средняя температура за неделю:', '\\n')\n",
    "for citi in cities_temperature:\n",
    "    print(f'{citi[0]} - {(((sum(citi[1])/7)-32)*5/9):.1f} C')"
   ]
  },
  {
   "cell_type": "code",
   "execution_count": null,
   "metadata": {},
   "outputs": [],
   "source": [
    "# Задание 4: \n",
    "# Вариант 2: средние температуры (произвольное кол-во дней)\n",
    "\n",
    "cities_temperature = [\n",
    "    ['Санкт-Петербург', [66.2, 66.2, 69.8, 71.6, 71.6, 73.4, 69.8]], \n",
    "    ['Екатеринбург', [55.4, 57.2, 51.8, 62.6, 64.4, 64.4]], \n",
    "    ['Ноябрьск', [60.8, 64.4, 66.2, 66.2, 60.8]], \n",
    "    ['Уфа', [62.6, 59, 57.2, 60.8]]\n",
    "]\n",
    "\n",
    "print('Средняя температура в городе:', '\\n')\n",
    "for citi in cities_temperature:\n",
    "    print(f'{citi[0]} - {((sum(citi[1])/(len(citi[1]))-32)*5/9):.1f} C')"
   ]
  },
  {
   "cell_type": "code",
   "execution_count": null,
   "metadata": {},
   "outputs": [],
   "source": [
    "# перевод набора по F в среднюю по C\n",
    "\n",
    "temperature = [60.8, 68, 64.4, 66.2, 66.2, 60.8, 62.6]\n",
    "\n",
    "f'{((sum(temperature))/(len(temperature))-32)*5/9:.1f} C'"
   ]
  }
 ],
 "metadata": {
  "kernelspec": {
   "display_name": "Python 3",
   "language": "python",
   "name": "python3"
  },
  "language_info": {
   "codemirror_mode": {
    "name": "ipython",
    "version": 3
   },
   "file_extension": ".py",
   "mimetype": "text/x-python",
   "name": "python",
   "nbconvert_exporter": "python",
   "pygments_lexer": "ipython3",
   "version": "3.8.3"
  }
 },
 "nbformat": 4,
 "nbformat_minor": 4
}
