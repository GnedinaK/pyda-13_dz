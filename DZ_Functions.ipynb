{
 "cells": [
  {
   "cell_type": "code",
   "execution_count": null,
   "metadata": {},
   "outputs": [],
   "source": [
    "# Задание 1: автоматизация работы секретаря\n",
    "\n",
    "documents = [\n",
    " {'type': 'passport', 'number': '2207 876234', 'name': 'Василий Гупкин'},\n",
    " {'type': 'invoice', 'number': '11-2', 'name': 'Геннадий Покемонов'},\n",
    " {'type': 'insurance', 'number': '10006', 'name': 'Аристарх Павлов'}\n",
    "]\n",
    "\n",
    "directories = {\n",
    " '1': ['2207 876234', '11-2'],\n",
    " '2': ['10006'],\n",
    " '3': []\n",
    "}\n",
    "              "
   ]
  },
  {
   "cell_type": "code",
   "execution_count": null,
   "metadata": {},
   "outputs": [],
   "source": [
    "def documents_owner():\n",
    "    user_input = input('Введите номер документа: ')\n",
    "    for owner in documents:\n",
    "        document_number = owner['number']\n",
    "        document_owner = owner['name']\n",
    "        if user_input == document_number:               \n",
    "            print('Владелец документа: ', document_owner)\n",
    "            break\n",
    "    else:\n",
    "        print('Документ не найден в базе')\n",
    "        \n",
    "documents_owner()               "
   ]
  },
  {
   "cell_type": "code",
   "execution_count": null,
   "metadata": {},
   "outputs": [],
   "source": [
    "def document_directories():\n",
    "    user_input = input('Введите номер документа: ')\n",
    "    for key, value in directories.items():\n",
    "        if user_input in value:\n",
    "            shelf = key\n",
    "            print('Полка документа: ', shelf)\n",
    "            break\n",
    "    else:\n",
    "        print('Документ не найден на полках ')\n",
    "        \n",
    "document_directories()"
   ]
  },
  {
   "cell_type": "code",
   "execution_count": null,
   "metadata": {},
   "outputs": [],
   "source": [
    "def all_documents():\n",
    "    print('Информация по всем документам:')\n",
    "    for doc in documents:\n",
    "        document_type = doc['type']\n",
    "        document_number = doc['number']\n",
    "        document_owner = doc['name']\n",
    "        for key, value in directories.items():\n",
    "            if doc['number'] in value:\n",
    "                shelf = key\n",
    "        print(f'N:', document_number, 'тип:', document_type, 'сотрудник:', document_owner, 'полка хранения:', shelf)\n",
    "all_documents()"
   ]
  },
  {
   "cell_type": "code",
   "execution_count": null,
   "metadata": {},
   "outputs": [],
   "source": [
    "def add_shelf():\n",
    "    user_input = input('Введите номер полки: ')\n",
    "    if user_input in directories:\n",
    "        print('Такая полка уже существует. Текущий перечень полок: ', ', '.join(directories.keys()))\n",
    "    else:\n",
    "        directories[user_input] = []\n",
    "        print('Полка добавлена. Текущий перечень полок:', ', '.join(directories.keys()))\n",
    "        \n",
    "add_shelf()"
   ]
  },
  {
   "cell_type": "code",
   "execution_count": null,
   "metadata": {},
   "outputs": [],
   "source": [
    "def count_documents():\n",
    "    all_docs = sorted(directories.values())\n",
    "    docs = sum(all_docs, [])\n",
    "    print('Всего документов в базе:', len(docs))\n",
    "\n",
    "count_documents()"
   ]
  },
  {
   "cell_type": "code",
   "execution_count": null,
   "metadata": {},
   "outputs": [],
   "source": [
    "def del_empty_shelf():\n",
    "        user_input = input('Введите номер полки: ')\n",
    "        if user_input not in directories:\n",
    "            print('Такой полки не существует. Текущий перечень полок: ', ', '.join(directories.keys()))\n",
    "            return\n",
    "        value = directories[user_input]\n",
    "        if user_input in directories and not value:\n",
    "            del(directories[user_input])\n",
    "            print('Полка удалена. Текущий перечень полок: ', ', '.join(directories.keys()))\n",
    "        else:   \n",
    "            print('На полке есть документы, удалите их перед удалением полки. Текущий перечень полок: ', ', '.join(directories.keys()))\n",
    "            \n",
    "del_empty_shelf()"
   ]
  },
  {
   "cell_type": "code",
   "execution_count": null,
   "metadata": {},
   "outputs": [],
   "source": [
    "# Задание 1: автоматизация работы секретаря\n",
    "\n",
    "documents = [\n",
    " {'type': 'passport', 'number': '2207 876234', 'name': 'Василий Гупкин'},\n",
    " {'type': 'invoice', 'number': '11-2', 'name': 'Геннадий Покемонов'},\n",
    " {'type': 'insurance', 'number': '10006', 'name': 'Аристарх Павлов'}\n",
    "]\n",
    "\n",
    "directories = {\n",
    " '1': ['2207 876234', '11-2'],\n",
    " '2': ['10006'],\n",
    " '3': []\n",
    "}\n",
    "\n",
    "def main():\n",
    "    while True:\n",
    "        print('\\n' 'Список команд:'\n",
    "              '\\n' '- p   найти сотрудника по номеру документа' \n",
    "              '\\n' '- s   найти полку документа'\n",
    "              '\\n' '- i   информация по всем документам'\n",
    "              '\\n' '- as добавить новую полку '\n",
    "              '\\n' '- ds  удалить полку'\n",
    "              '\\n' '- d   количество документов на хранении'\n",
    "              '\\n' '- q   завершить работу с документами'\n",
    "             )\n",
    "        user_input = input('Введите команду: ')\n",
    "        if user_input == 'p':\n",
    "            documents_owner()\n",
    "        elif user_input == 's':            \n",
    "            document_directories()\n",
    "        elif user_input == 'i':\n",
    "            all_documents()\n",
    "        elif user_input == 'as':\n",
    "            add_shelf()\n",
    "        elif user_input == 'ds':\n",
    "            del_empty_shelf()\n",
    "        elif user_input == 'd':\n",
    "            count_documents()\n",
    "        elif user_input == 'q':\n",
    "            print('Работа с документами завершена')\n",
    "            break\n",
    "        else:\n",
    "            print('Введена неверная команда')"
   ]
  },
  {
   "cell_type": "code",
   "execution_count": null,
   "metadata": {},
   "outputs": [],
   "source": [
    "main()"
   ]
  }
 ],
 "metadata": {
  "kernelspec": {
   "display_name": "Python 3",
   "language": "python",
   "name": "python3"
  },
  "language_info": {
   "codemirror_mode": {
    "name": "ipython",
    "version": 3
   },
   "file_extension": ".py",
   "mimetype": "text/x-python",
   "name": "python",
   "nbconvert_exporter": "python",
   "pygments_lexer": "ipython3",
   "version": "3.8.3"
  }
 },
 "nbformat": 4,
 "nbformat_minor": 4
}
