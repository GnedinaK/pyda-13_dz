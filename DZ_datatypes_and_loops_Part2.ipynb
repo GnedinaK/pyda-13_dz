{
 "cells": [
  {
   "cell_type": "code",
   "execution_count": 1,
   "metadata": {},
   "outputs": [
    {
     "name": "stdout",
     "output_type": "stream",
     "text": [
      "Уникальные гео-метки: {98, 35, 15, 213, 54, 119}\n"
     ]
    }
   ],
   "source": [
    "# Задание 1: Выводим на экран множество уникальных гео-меток всех пользователей\n",
    "# Вариант 1\n",
    "\n",
    "ids = {'user1': [213, 213, 213, 15, 213],\n",
    "'user2': [54, 54, 119, 119, 119],\n",
    "'user3': [213, 98, 98, 35]}\n",
    "\n",
    "all_tags = [ids[tags] for tags in ids]\n",
    "unique_tags = sum(all_tags, [])\n",
    "print('Уникальные гео-метки:', set(unique_tags))\n"
   ]
  },
  {
   "cell_type": "code",
   "execution_count": 2,
   "metadata": {},
   "outputs": [
    {
     "name": "stdout",
     "output_type": "stream",
     "text": [
      "Уникальные гео-метки: {98, 35, 15, 213, 54, 119}\n"
     ]
    }
   ],
   "source": [
    "# Вариант 2 (проще)\n",
    "\n",
    "ids = {'user1': [213, 213, 213, 15, 213],\n",
    "'user2': [54, 54, 119, 119, 119],\n",
    "'user3': [213, 98, 98, 35]}\n",
    "\n",
    "all_tag = sorted(ids.values())\n",
    "tag = sum(all_tag, [])\n",
    "print('Уникальные гео-метки:', set(tag))"
   ]
  },
  {
   "cell_type": "code",
   "execution_count": 3,
   "metadata": {},
   "outputs": [
    {
     "name": "stdout",
     "output_type": "stream",
     "text": [
      "Геометки ставят следующие пользователи: {'user3', 'user2', 'user1', 'Петя'}\n"
     ]
    }
   ],
   "source": [
    "# Обратный вариант (для своего понимания)\n",
    "\n",
    "ids = {'user1': [213, 213, 213, 15, 213],\n",
    "'user2': [54, 54, 119, 119, 119],\n",
    "'user3': [213, 98, 98, 35],\n",
    "'user3': [213, 98, 98, 35],\n",
    "'Петя': [213, 98, 98, 35],\n",
    "'Петя': [213, 98, 98, 35]}\n",
    "\n",
    "names = sorted(ids)\n",
    "print('Геометки ставят следующие пользователи:', set(names))\n"
   ]
  },
  {
   "cell_type": "code",
   "execution_count": 1,
   "metadata": {},
   "outputs": [
    {
     "name": "stdout",
     "output_type": "stream",
     "text": [
      " Поисковых запросов, содержащих 3 слов(а) - 57.14 %\n",
      " Поисковых запросов, содержащих 2 слов(а) - 42.86 %\n"
     ]
    }
   ],
   "source": [
    "# Задание 2: распределение по количеству слов в запросах\n",
    "\n",
    "queries = [\n",
    "    'смотреть сериалы онлайн',\n",
    "    'новости спорта',\n",
    "    'афиша кино',\n",
    "    'курс доллара',\n",
    "    'сериалы этим летом',\n",
    "    'курс по питону',\n",
    "    'сериалы про спорт',\n",
    "]\n",
    "\n",
    "res = {}\n",
    "\n",
    "for query in queries:\n",
    "    length = len(query.split())\n",
    "    res[length] = res.get(length, 0) + 1\n",
    "for key, value in res.items():\n",
    "    print(f' Поисковых запросов, содержащих {key} слов(а) - {(100 / (len(queries)) * value):.2f} %')"
   ]
  },
  {
   "cell_type": "code",
   "execution_count": 2,
   "metadata": {},
   "outputs": [
    {
     "name": "stdout",
     "output_type": "stream",
     "text": [
      "{'vk': {'revenue': 103, 'cost': 98, 'ROI': 5.1}, 'yandex': {'revenue': 179, 'cost': 153, 'ROI': 16.99}, 'facebook': {'revenue': 103, 'cost': 110, 'ROI': -6.36}, 'adwords': {'revenue': 35, 'cost': 34, 'ROI': 2.94}, 'twitter': {'revenue': 11, 'cost': 24, 'ROI': -54.17}}\n"
     ]
    }
   ],
   "source": [
    "# Задание 3 (которое породило глазной тик)\n",
    "# дополнение исходной структуры расчитываемым показателем ROI = (revenue / cost - 1) * 100\n",
    "\n",
    "results = {\n",
    "'vk': {'revenue': 103, 'cost': 98},\n",
    "'yandex': {'revenue': 179, 'cost': 153},\n",
    "'facebook': {'revenue': 103, 'cost': 110},\n",
    "'adwords': {'revenue': 35, 'cost': 34},\n",
    "'twitter': {'revenue': 11, 'cost': 24},\n",
    "}\n",
    "\n",
    "for new_result in results.values():\n",
    "    ROI =  round(((new_result['revenue']/new_result['cost']-1)*100), 2)\n",
    "    new_result['ROI'] = ROI\n",
    "    \n",
    "print(results)"
   ]
  },
  {
   "cell_type": "code",
   "execution_count": 4,
   "metadata": {},
   "outputs": [
    {
     "name": "stdout",
     "output_type": "stream",
     "text": [
      "Результат: Максимальный объем продаж на рекламном канале - vk\n"
     ]
    }
   ],
   "source": [
    "# Задание 4: самое большое значение\n",
    "# Вариант 1 (с выводом канала)\n",
    "\n",
    "stats = {'facebook': 55, 'adwords': 115, 'vk': 120, 'google': 99, 'email': 42, 'ok': 98}\n",
    "\n",
    "sales = list(stats.values())\n",
    "channels = list(stats.keys())\n",
    "print(f'Результат: Максимальный объем продаж на рекламном канале -', channels[sales.index(max(sales))])"
   ]
  },
  {
   "cell_type": "code",
   "execution_count": 1,
   "metadata": {},
   "outputs": [
    {
     "name": "stdout",
     "output_type": "stream",
     "text": [
      "Результат: Максимальный объем продаж среди рекламных каналов - 120\n"
     ]
    }
   ],
   "source": [
    "# Вариант 2 (с выводом суммы)\n",
    "\n",
    "stats = {'facebook': 55, 'adwords': 115, 'vk': 120, 'google': 99, 'email': 42, 'ok': 98}\n",
    "\n",
    "sales = sorted(stats.values())\n",
    "print(f'Результат: Максимальный объем продаж среди рекламных каналов -', max(sales))"
   ]
  },
  {
   "cell_type": "code",
   "execution_count": 6,
   "metadata": {},
   "outputs": [
    {
     "name": "stdout",
     "output_type": "stream",
     "text": [
      "Результат: Максимальный объем продаж на рекламном канале - 120\n"
     ]
    }
   ],
   "source": [
    "# Вариант 3 (с выводом суммы)\n",
    "\n",
    "stats = {'facebook': 55, 'adwords': 115, 'vk': 120, 'google': 99, 'email': 42, 'ok': 98}\n",
    "\n",
    "sales = list(stats.values())\n",
    "print(f'Результат: Максимальный объем продаж на рекламном канале -', max(sales))"
   ]
  }
 ],
 "metadata": {
  "kernelspec": {
   "display_name": "Python 3",
   "language": "python",
   "name": "python3"
  },
  "language_info": {
   "codemirror_mode": {
    "name": "ipython",
    "version": 3
   },
   "file_extension": ".py",
   "mimetype": "text/x-python",
   "name": "python",
   "nbconvert_exporter": "python",
   "pygments_lexer": "ipython3",
   "version": "3.8.3"
  }
 },
 "nbformat": 4,
 "nbformat_minor": 4
}
