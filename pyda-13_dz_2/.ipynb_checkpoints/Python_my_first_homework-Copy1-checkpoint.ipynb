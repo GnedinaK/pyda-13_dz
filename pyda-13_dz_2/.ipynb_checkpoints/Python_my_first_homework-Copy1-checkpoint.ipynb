{
 "cells": [
  {
   "cell_type": "code",
   "execution_count": 59,
   "metadata": {},
   "outputs": [
    {
     "name": "stdout",
     "output_type": "stream",
     "text": [
      "Фраза 2 длиннее фразы 1\n",
      "Такие дела.\n"
     ]
    }
   ],
   "source": [
    "#Задание 1 (Улун, дворняга, доктор Живаго/Латте, Мурзик, Ленинград)\n",
    "\n",
    "phrase_1 = len('Чай, собака, Пастернак')\n",
    "phrase_2 = len('Кофе, кошка, Мандельштам')\n",
    "\n",
    "if phrase_1 > phrase_2:\n",
    "    print('Фраза 1 длиннее фразы 2')\n",
    "elif phrase_1 < phrase_2:\n",
    "    print('Фраза 2 длиннее фразы 1')\n",
    "elif phrase1 == phrase_2:\n",
    "    print('Фразы равной длины')\n",
    "print('Такие дела.')"
   ]
  },
  {
   "cell_type": "code",
   "execution_count": 42,
   "metadata": {},
   "outputs": [
    {
     "name": "stdout",
     "output_type": "stream",
     "text": [
      "Невиcокосный год\n"
     ]
    }
   ],
   "source": [
    "#Задание 2 (турбулентный или тьфу-тьфу-тьфу)\n",
    "\n",
    "year = 1700 #григорианский календарь \n",
    "\n",
    "if year / 400 == year // 400:\n",
    "    print('Виcокосный год')\n",
    "elif year / 100 == year // 100:\n",
    "    print('Невиcокосный год')\n",
    "elif year / 4 == year // 4: \n",
    "    print('Виcокосный год')\n",
    "elif year / 4 != year // 4:\n",
    "    print('Невисокосный год')"
   ]
  },
  {
   "cell_type": "code",
   "execution_count": 60,
   "metadata": {},
   "outputs": [
    {
     "name": "stdout",
     "output_type": "stream",
     "text": [
      "Овен\n"
     ]
    }
   ],
   "source": [
    "#Задание 3 (астрологический бестиарий)\n",
    "\n",
    "day = 2\n",
    "month = ('сентябрь') #без вариантов Март, МАРТ, но, наверняка, можно и так\n",
    "\n",
    "if day >= 21 or day <= 31 and month == ('март'):\n",
    "    print('Овен')\n",
    "elif day >= 1 or day <= 20 and month == ('апрель'):\n",
    "    print('Овен')\n",
    "elif day >= 21 or day <= 30 and month == ('апрель'):\n",
    "    print('Телец')\n",
    "elif day >= 1 or day <= 21 and month == ('май'):\n",
    "    print('Телец')\n",
    "elif day >= 22 or day <= 31 and month == ('май'):\n",
    "    print('Близнецы')\n",
    "elif day >= 1 or day <= 21 and month == ('июнь'):\n",
    "    print('Близнецы')\n",
    "elif day >= 22 or day <= 30 and month == ('июнь'):\n",
    "    print('Рак')\n",
    "elif day >= 1 or day <= 22 and month == ('июль'):\n",
    "    print('Рак')\n",
    "elif day >= 23 or day <= 31 and month == ('июль'):\n",
    "    print('Лев')\n",
    "elif day >= 1 or day <= 23 and month == ('август'):\n",
    "    print('Лев')\n",
    "elif day >= 24 or day <= 31 and month == ('август'):\n",
    "    print('Дева')\n",
    "elif day >= 1 or day <= 23 and month == ('сентябрь'):\n",
    "    print('Дева')\n",
    "elif day >= 24 or day <= 30 and month == ('сентябрь'):\n",
    "    print('Весы')\n",
    "elif day >= 1 or day <= 22 and month == ('октябрь'):\n",
    "    print('Весы')\n",
    "elif day >= 23 or day <= 31 and month == ('октябрь'):\n",
    "    print('Скорпион')\n",
    "elif day >= 1 or day <= 22 and month == ('ноябрь'):\n",
    "    print('Скорпион')\n",
    "elif day >= 23 or day <= 30 and month == ('ноябрь'):\n",
    "    print('Стрелец')\n",
    "elif day >= 1 or day <= 21 and month == ('декабрь'):\n",
    "    print('Стрелец')\n",
    "elif day >= 22 or day <= 31 and month == ('декабрь'):\n",
    "    print('Козерог')\n",
    "elif day >= 1 or day <= 19 and month == ('январь'):\n",
    "    print('Козерог')\n",
    "elif day >= 20 or day <= 31 and month == ('январь'):\n",
    "    print('Водолей')\n",
    "elif day >= 1 or day <= 19 and month == ('февраль'):\n",
    "    print('Водолей')\n",
    "elif day >= 20 or day <= 29 and month == ('февраль'):\n",
    "    print('Рыбы')\n",
    "elif day >= 1 or day <= 20 and month == ('март'):\n",
    "    print('Рыбы')"
   ]
  }
 ],
 "metadata": {
  "kernelspec": {
   "display_name": "Python 3",
   "language": "python",
   "name": "python3"
  },
  "language_info": {
   "codemirror_mode": {
    "name": "ipython",
    "version": 3
   },
   "file_extension": ".py",
   "mimetype": "text/x-python",
   "name": "python",
   "nbconvert_exporter": "python",
   "pygments_lexer": "ipython3",
   "version": "3.8.3"
  }
 },
 "nbformat": 4,
 "nbformat_minor": 4
}
