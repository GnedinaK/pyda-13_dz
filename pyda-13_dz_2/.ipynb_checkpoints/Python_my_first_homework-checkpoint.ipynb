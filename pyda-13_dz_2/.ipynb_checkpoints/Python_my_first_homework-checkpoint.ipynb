{
 "cells": [
  {
   "cell_type": "code",
   "execution_count": 68,
   "metadata": {},
   "outputs": [
    {
     "name": "stdout",
     "output_type": "stream",
     "text": [
      "Фраза 2 длиннее фразы 1\n",
      "Такие дела.\n"
     ]
    }
   ],
   "source": [
    "#Задание 1 (Улун, дворняга, доктор Живаго/Латте, Мурзик, Ленинград)\n",
    "\n",
    "phrase_1 = len('Чай, собака, Пастернак')\n",
    "phrase_2 = len('Кофе, кошка, Мандельштам')\n",
    "\n",
    "if phrase_1 > phrase_2:\n",
    "    print('Фраза 1 длиннее фразы 2')\n",
    "elif phrase_1 < phrase_2:\n",
    "    print('Фраза 2 длиннее фразы 1')\n",
    "elif phrase1 == phrase_2:\n",
    "    print('Фразы равной длины')\n",
    "print('Такие дела.')"
   ]
  },
  {
   "cell_type": "code",
   "execution_count": 66,
   "metadata": {},
   "outputs": [
    {
     "name": "stdout",
     "output_type": "stream",
     "text": [
      "Невиcокосный год\n"
     ]
    }
   ],
   "source": [
    "#Задание 2 (турбулентный или тьфу-тьфу-тьфу)\n",
    "\n",
    "year = 1700 #григорианский календарь \n",
    "\n",
    "if year / 400 == year // 400:\n",
    "    print('Виcокосный год')\n",
    "elif year / 100 == year // 100:\n",
    "    print('Невиcокосный год')\n",
    "elif year / 4 == year // 4: \n",
    "    print('Виcокосный год')\n",
    "elif year / 4 != year // 4:\n",
    "    print('Невисокосный год')"
   ]
  },
  {
   "cell_type": "code",
   "execution_count": 99,
   "metadata": {},
   "outputs": [
    {
     "name": "stdout",
     "output_type": "stream",
     "text": [
      "Водолей - самый свободолюбивый знак.\n"
     ]
    }
   ],
   "source": [
    "#Задание 3 (астрологический бестиарий)\n",
    "\n",
    "day = 21\n",
    "month = ('январь') #без вариантов Март, МАРТ, mart, но, наверняка, можно и так\n",
    "\n",
    "if (day >= 21 and day <= 31 and month == ('март')) or day <= 20 and month == ('апрель'):\n",
    "    print('Овен - первопроходец, ведущий за собой.')\n",
    "elif (day >= 21 and day <= 30 and month == ('апрель')) or day <= 21 and month == ('май'):\n",
    "    print('Телец - верный и терпеливый.')\n",
    "elif (day >= 22 and day <= 31 and month == ('май')) or day <= 21 and month == ('июнь'):\n",
    "    print('Близнецы - неуловимый и изменчивый знакю')\n",
    "elif (day >= 22 and day <= 30 and month == ('июнь')) or day <= 22 and month == ('июль'):\n",
    "    print('Рак - надёжный хранитель секретов.') #да, я топлю за букву Ё!\n",
    "elif (day >= 23 and day <= 31 and month == ('июль')) or day <= 23 and month == ('август'):\n",
    "    print('Лев - благородный и надёжный.')\n",
    "elif (day >= 24 and day <= 31 and month == ('август')) or  day <= 23 and month == ('сентябрь'):\n",
    "    print('Дева - самый искренний знак.')\n",
    "elif (day >= 24 and day <= 30 and month == ('сентябрь')) or day <= 22 and month == ('октябрь'):\n",
    "    print('Весы - артистичны и общительны.')\n",
    "elif (day >= 23 and day <= 31 and month == ('октябрь')) or day <= 22 and month == ('ноябрь'):\n",
    "    print('Скорпион - храбр и честен.')\n",
    "elif (day >= 23 and day <= 30 and month == ('ноябрь')) or day <= 21 and month == ('декабрь'):\n",
    "    print('Стрелец - находчив, весел и остроумен.')\n",
    "elif (day >= 22 and day <= 31 and month == ('декабрь')) or day <= 19 and month == ('январь'):\n",
    "    print('Козерог - строг, но разумен.')\n",
    "elif (day >= 20 and day <= 31 and month == ('январь')) or day <= 19 and month == ('февраль'):\n",
    "    print('Водолей - самый свободолюбивый знак.')\n",
    "elif (day >= 20 and day <= 29 and month == ('февраль'))or day <= 20 and month == ('март'):\n",
    "    print('Рыбы - спокойны и свободны от честолюбия.') "
   ]
  },
  {
   "cell_type": "code",
   "execution_count": 135,
   "metadata": {},
   "outputs": [
    {
     "name": "stdout",
     "output_type": "stream",
     "text": [
      "Упаковка для лыж\n"
     ]
    }
   ],
   "source": [
    "#Задание 4 (камень, ножницы, бумага)\n",
    "\n",
    "width = 10\n",
    "length = 205\n",
    "height = 5\n",
    "\n",
    "if  width > 0 and length  > 200 and height > 0:\n",
    "    print('Упаковка для лыж')\n",
    "elif width < 15 and length < 15 and height < 15:\n",
    "    print('Коробка №1')\n",
    "elif (width > 15 and width < 50) or (length > 15 and length  < 50) or (height > 15 and height  < 50):\n",
    "    print('Коробка №2')\n",
    "else:\n",
    "    print('Стандартная коробка №3')"
   ]
  }
 ],
 "metadata": {
  "kernelspec": {
   "display_name": "Python 3",
   "language": "python",
   "name": "python3"
  },
  "language_info": {
   "codemirror_mode": {
    "name": "ipython",
    "version": 3
   },
   "file_extension": ".py",
   "mimetype": "text/x-python",
   "name": "python",
   "nbconvert_exporter": "python",
   "pygments_lexer": "ipython3",
   "version": "3.8.3"
  }
 },
 "nbformat": 4,
 "nbformat_minor": 4
}
