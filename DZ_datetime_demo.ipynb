{
 "cells": [
  {
   "cell_type": "markdown",
   "metadata": {},
   "source": [
    "### **Задание 1 (перевод даты в объект datetime)**\n",
    "1. The Moscow Times - Wednesday, October 2, 2002  \n",
    "2. The Guardian - Friday, 11.10.13  \n",
    "3. Daily News - Thursday, 18 August 1977"
   ]
  },
  {
   "cell_type": "code",
   "execution_count": 1,
   "metadata": {},
   "outputs": [],
   "source": [
    "from datetime import datetime"
   ]
  },
  {
   "cell_type": "code",
   "execution_count": 2,
   "metadata": {},
   "outputs": [
    {
     "data": {
      "text/plain": [
       "datetime.datetime(2002, 10, 2, 0, 0)"
      ]
     },
     "execution_count": 2,
     "metadata": {},
     "output_type": "execute_result"
    }
   ],
   "source": [
    "#The Moscow Times\n",
    "\n",
    "tmt_string = 'Wednesday, October 2, 2002'\n",
    "datetime.strptime(tmt_string, '%A, %B %d, %Y')"
   ]
  },
  {
   "cell_type": "code",
   "execution_count": 3,
   "metadata": {},
   "outputs": [
    {
     "data": {
      "text/plain": [
       "datetime.datetime(2013, 10, 11, 0, 0)"
      ]
     },
     "execution_count": 3,
     "metadata": {},
     "output_type": "execute_result"
    }
   ],
   "source": [
    "#The Guardian\n",
    "\n",
    "tg_string = 'Friday, 11.10.13'\n",
    "datetime.strptime(tg_string, '%A, %d.%m.%y')"
   ]
  },
  {
   "cell_type": "code",
   "execution_count": 4,
   "metadata": {},
   "outputs": [
    {
     "data": {
      "text/plain": [
       "datetime.datetime(1977, 8, 18, 0, 0)"
      ]
     },
     "execution_count": 4,
     "metadata": {},
     "output_type": "execute_result"
    }
   ],
   "source": [
    "#Daily News\n",
    "\n",
    "dn_string = 'Thursday, 18 August 1977'\n",
    "datetime.strptime(dn_string, '%A, %d %B %Y')"
   ]
  },
  {
   "cell_type": "markdown",
   "metadata": {},
   "source": [
    "### Задание 2 (Функция, проверяющая даты на корректность.)  \n",
    "Поток дат в формате YYYY-MM-DD, в которых встречаются некорректные значения:  \n",
    "stream = [‘2018-04-02’, ‘2018-02-29’, ‘2018-19-02’]"
   ]
  },
  {
   "cell_type": "code",
   "execution_count": 5,
   "metadata": {},
   "outputs": [
    {
     "name": "stdout",
     "output_type": "stream",
     "text": [
      "Дата 2018-02-29 не корректна\n",
      "Дата 2018-19-02 не корректна\n"
     ]
    }
   ],
   "source": [
    "from datetime import datetime\n",
    "\n",
    "def date_check():\n",
    "    stream = ['2018-04-02', '2018-02-29', '2018-19-02']\n",
    "    for date in stream:\n",
    "        try:\n",
    "            datetime.strptime(date, '%Y-%m-%d')\n",
    "        except ValueError:\n",
    "            print('Дата {} не корректна'.format(date))\n",
    "            continue\n",
    "date_check()"
   ]
  },
  {
   "cell_type": "markdown",
   "metadata": {},
   "source": [
    "### Задание 3 (функция date_range)  \n",
    "возвращает список дат за период от start_date до end_date.  \n",
    "Даты в формате YYYY-MM-DD.   \n",
    "(В случае неверного формата, либо start_date > end_date возвращается пустой список)"
   ]
  },
  {
   "cell_type": "code",
   "execution_count": 6,
   "metadata": {},
   "outputs": [
    {
     "name": "stdout",
     "output_type": "stream",
     "text": [
      "Введите начальную дату в формате YYYY-MM-DD: 2020-09-01\n",
      "Введите дату окончания в формате YYYY-MM-DD: 2020-09-10\n"
     ]
    },
    {
     "data": {
      "text/plain": [
       "['2020-09-01',\n",
       " '2020-09-02',\n",
       " '2020-09-03',\n",
       " '2020-09-04',\n",
       " '2020-09-05',\n",
       " '2020-09-06',\n",
       " '2020-09-07',\n",
       " '2020-09-08',\n",
       " '2020-09-09',\n",
       " '2020-09-10']"
      ]
     },
     "execution_count": 6,
     "metadata": {},
     "output_type": "execute_result"
    }
   ],
   "source": [
    "# вариант 1 \n",
    "\n",
    "from datetime import datetime, timedelta\n",
    "\n",
    "def date_range():\n",
    "    while True:\n",
    "        start_date_user = input('Введите начальную дату в формате YYYY-MM-DD: ')\n",
    "        try:\n",
    "            datetime.strptime(start_date_user, '%Y-%m-%d')\n",
    "            start_date = datetime.strptime(start_date_user, '%Y-%m-%d')\n",
    "        except ValueError:\n",
    "            print('Задайте другую начальную дату. Дата {} не верна'.format(start_date_user))\n",
    "            break\n",
    "\n",
    "        end_date_user = input('Введите дату окончания в формате YYYY-MM-DD: ')\n",
    "        try:\n",
    "            datetime.strptime(start_date_user, '%Y-%m-%d')\n",
    "            end_date = datetime.strptime(end_date_user, '%Y-%m-%d')\n",
    "        except ValueError:\n",
    "            print('Задайте другую дату окончания. Дата {} не верна'.format(end_date_user))\n",
    "            break\n",
    "        delta = end_date - start_date         \n",
    "        if delta.days > 0 or start_date < end_date:\n",
    "            return [(start_date + (timedelta(i))).strftime('%Y-%m-%d') for i in range(delta.days+1)]\n",
    "        else:\n",
    "            print ('Задан неверный период')\n",
    "            \n",
    "date_range()"
   ]
  },
  {
   "cell_type": "code",
   "execution_count": 7,
   "metadata": {},
   "outputs": [
    {
     "name": "stdout",
     "output_type": "stream",
     "text": [
      "Для старта периода введите год в формате YYYY: 2020\n",
      "Для старта периода введите месяц в формате MM: 09\n",
      "Для старта периода введите день в формате DD: ghj\n",
      "Задайте другую дату. Начальная дата 2020-09-ghj не верна\n"
     ]
    }
   ],
   "source": [
    "# вариант 2\n",
    "\n",
    "from datetime import datetime, timedelta\n",
    "\n",
    "def date_range_1():\n",
    "    while True:\n",
    "        start_year = input('Для старта периода введите год в формате YYYY: ')\n",
    "        start_month = input('Для старта периода введите месяц в формате MM: ')\n",
    "        start_day = input('Для старта периода введите день в формате DD: ')\n",
    "        start_date_config = (start_year, start_month, start_day)\n",
    "        start_date_user = '-'.join(start_date_config)\n",
    "    \n",
    "        try:\n",
    "            datetime.strptime(start_date_user, '%Y-%m-%d')\n",
    "            start_date = datetime.strptime(start_date_user, '%Y-%m-%d')\n",
    "        except ValueError:\n",
    "            print('Задайте другую дату. Начальная дата {} не верна'.format(start_date_user))\n",
    "            break\n",
    "            \n",
    "        end_year = input('Для окончания периода введите год в формате YYYY: ')\n",
    "        end_month = input('Для окончания периода введите месяц в формате MM: ')\n",
    "        end_day = input('Для окончания периода введите день в формате DD: ')\n",
    "    \n",
    "        end_date_config = (end_year, end_month, end_day)\n",
    "        end_date_user = '-'.join(end_date_config)\n",
    "\n",
    "        try:\n",
    "            datetime.strptime(end_date_user, '%Y-%m-%d')\n",
    "            end_date = datetime.strptime(end_date_user, '%Y-%m-%d')\n",
    "        except ValueError:\n",
    "            print('Задайте другую дату. Дата окончания {} не верна'.format(end_date_user))\n",
    "            break\n",
    "            \n",
    "        delta = end_date - start_date         \n",
    "        if delta.days <= 0 or end_date < start_date:\n",
    "            print ('Задан неверный период')\n",
    "            break\n",
    "        return [(start_date + (timedelta(i))).strftime('%Y-%m-%d') for i in range(delta.days+1)]\n",
    "    \n",
    "date_range_1()"
   ]
  },
  {
   "cell_type": "code",
   "execution_count": 9,
   "metadata": {},
   "outputs": [
    {
     "name": "stdout",
     "output_type": "stream",
     "text": [
      "Введите начальную дату в формате YYYY-MM-DD: 2020-09-01\n",
      "Введите дату окончания в формате YYYY-MM-DD: 2020-09-05\n",
      "2020-09-01 00:00:00\n",
      "2020-09-02 00:00:00\n",
      "2020-09-03 00:00:00\n",
      "2020-09-04 00:00:00\n",
      "2020-09-05 00:00:00\n"
     ]
    }
   ],
   "source": [
    "# самопроверка (вывод datetime)\n",
    "\n",
    "from datetime import datetime, timedelta\n",
    "\n",
    "def date_rang_datetime():\n",
    "    while True:\n",
    "        start_date_user = input('Введите начальную дату в формате YYYY-MM-DD: ')\n",
    "        try:\n",
    "            datetime.strptime(start_date_user, '%Y-%m-%d')\n",
    "            start_date = datetime.strptime(start_date_user, '%Y-%m-%d')\n",
    "        except ValueError:\n",
    "            print('Задайте другую начальную дату. Дата {} не верна'.format(start_date_user))\n",
    "            break\n",
    "\n",
    "        end_date_user = input('Введите дату окончания в формате YYYY-MM-DD: ')\n",
    "        try:\n",
    "            datetime.strptime(start_date_user, '%Y-%m-%d')\n",
    "            end_date = datetime.strptime(end_date_user, '%Y-%m-%d')\n",
    "        except ValueError:\n",
    "            print('Задайте другую дату окончания. Дата {} не верна'.format(end_date_user))\n",
    "            break\n",
    "        delta = end_date - start_date\n",
    "        for i in range(delta.days + 1):\n",
    "            print(start_date + timedelta(i))\n",
    "        break\n",
    "            \n",
    "date_rang_datetime()"
   ]
  },
  {
   "cell_type": "code",
   "execution_count": 10,
   "metadata": {},
   "outputs": [
    {
     "name": "stdout",
     "output_type": "stream",
     "text": [
      "Для старта периода введите год в формате YYYY: 2020\n",
      "Для старта периода введите месяц в формате MM: 09\n",
      "Для старта периода введите день в формате DD: 01\n"
     ]
    },
    {
     "data": {
      "text/plain": [
       "datetime.datetime(2020, 9, 1, 0, 0)"
      ]
     },
     "execution_count": 10,
     "metadata": {},
     "output_type": "execute_result"
    }
   ],
   "source": [
    "# самопроверка (начало периода в datetime из п/ввода)\n",
    "\n",
    "from datetime import datetime, timedelta\n",
    "\n",
    "def start_period():\n",
    "    start_year = input('Для старта периода введите год в формате YYYY: ')\n",
    "    start_month = input('Для старта периода введите месяц в формате MM: ')\n",
    "    start_day = input('Для старта периода введите день в формате DD: ')\n",
    "    start_date_config = (start_year, start_month, start_day)\n",
    "    start_date_user = '-'.join(start_date_config)\n",
    "    \n",
    "    try:\n",
    "        datetime.strptime(start_date_user, '%Y-%m-%d')\n",
    "        start_date = datetime.strptime(start_date_user, '%Y-%m-%d')\n",
    "        return start_date\n",
    "    except ValueError:\n",
    "        print('Задайте другую дату. Дата {} не верна'.format(start_date_user))\n",
    "\n",
    "start_period()"
   ]
  },
  {
   "cell_type": "code",
   "execution_count": 11,
   "metadata": {},
   "outputs": [
    {
     "name": "stdout",
     "output_type": "stream",
     "text": [
      "Для окончания периода введите год в формате YYYY: 2020\n",
      "Для окончания периода введите месяц в формате MM: 09\n",
      "Для окончания периода введите день в формате DD: 10\n"
     ]
    },
    {
     "data": {
      "text/plain": [
       "datetime.datetime(2020, 9, 10, 0, 0)"
      ]
     },
     "execution_count": 11,
     "metadata": {},
     "output_type": "execute_result"
    }
   ],
   "source": [
    "# самопроверка (окончание периода в datetime из п/ввода)\n",
    "\n",
    "from datetime import datetime, timedelta\n",
    "\n",
    "def end_period():\n",
    "    end_year = input('Для окончания периода введите год в формате YYYY: ')\n",
    "    end_month = input('Для окончания периода введите месяц в формате MM: ')\n",
    "    end_day = input('Для окончания периода введите день в формате DD: ')\n",
    "    \n",
    "    end_date_config = (end_year, end_month, end_day)\n",
    "    end_date_user = '-'.join(end_date_config)\n",
    "\n",
    "    try:\n",
    "        datetime.strptime(end_date_user, '%Y-%m-%d')\n",
    "        end_date = datetime.strptime(end_date_user, '%Y-%m-%d')\n",
    "        return end_date\n",
    "    except ValueError:\n",
    "        print('Задайте другую дату. Дата {} не верна'.format(end_date_user))\n",
    "    \n",
    "\n",
    "end_period()"
   ]
  }
 ],
 "metadata": {
  "kernelspec": {
   "display_name": "Python 3",
   "language": "python",
   "name": "python3"
  },
  "language_info": {
   "codemirror_mode": {
    "name": "ipython",
    "version": 3
   },
   "file_extension": ".py",
   "mimetype": "text/x-python",
   "name": "python",
   "nbconvert_exporter": "python",
   "pygments_lexer": "ipython3",
   "version": "3.8.3"
  }
 },
 "nbformat": 4,
 "nbformat_minor": 4
}
