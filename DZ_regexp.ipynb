{
 "cells": [
  {
   "cell_type": "markdown",
   "metadata": {},
   "source": [
    "### Задание 1 \n",
    "(корректность транспортного номера)"
   ]
  },
  {
   "cell_type": "code",
   "execution_count": 43,
   "metadata": {},
   "outputs": [
    {
     "name": "stdout",
     "output_type": "stream",
     "text": [
      "Введите номер транспортного средства: х179хм86\n",
      "Номер х179хм валиден. Регион: 86\n"
     ]
    }
   ],
   "source": [
    "import re\n",
    "\n",
    "def car_id_check():\n",
    "    car_id = input('Введите номер транспортного средства: ')\n",
    "    car_id_pattern = r'[АВЕКМНОРСТУХавекмнорстух]{1}\\d{3}[АВЕКМНОРСТУХавекмнорстух]{2}\\d{2,3}'\n",
    "    if re.findall(car_id_pattern, car_id):\n",
    "        print(f'Номер', car_id[0:6], 'валиден.', 'Регион:', car_id[6:])\n",
    "    else:\n",
    "        print('Номер не валиден.')\n",
    "            \n",
    "car_id_check()"
   ]
  },
  {
   "cell_type": "markdown",
   "metadata": {},
   "source": [
    "### Задание 2\n",
    "(удаление последовательных повторов)"
   ]
  },
  {
   "cell_type": "code",
   "execution_count": 46,
   "metadata": {},
   "outputs": [
    {
     "data": {
      "text/plain": [
       "'Напишите функцию, которая будет удалять все \\n    последовательные повторы слов из заданной строки при помощи регулярных выражений'"
      ]
     },
     "execution_count": 46,
     "metadata": {},
     "output_type": "execute_result"
    }
   ],
   "source": [
    "# Вариант 1 (как есть)\n",
    "import re\n",
    "\n",
    "def double_delete():\n",
    "    text = \"\"\"Напишите функцию функцию, которая будет будет будет будет удалять все все все все \n",
    "    последовательные повторы слов из из из из заданной строки строки при помощи регулярных выражений\"\"\"\n",
    "    return re.sub(r'\\b([^\\W]+)(\\s+\\1)+\\b', r'\\1', text) \n",
    "            \n",
    "double_delete()"
   ]
  },
  {
   "cell_type": "code",
   "execution_count": 47,
   "metadata": {},
   "outputs": [
    {
     "data": {
      "text/plain": [
       "'Напишите функцию которая будет удалять все последовательные повторы слов из заданной строки при помощи регулярных выражений'"
      ]
     },
     "execution_count": 47,
     "metadata": {},
     "output_type": "execute_result"
    }
   ],
   "source": [
    "# Вариант 2 (убираем лишнее)\n",
    "import re\n",
    "\n",
    "def double_delete():\n",
    "    text = \"\"\"Напишите функцию функцию, которая будет будет будет будет удалять все все все все \n",
    "    последовательные повторы слов из из из из заданной строки строки при помощи регулярных выражений\"\"\"\n",
    "    return re.sub(r'\\b([^\\W]+)(\\s+\\1)+\\b', r'\\1', re.sub(r'\\W+', ' ', text).strip()) \n",
    "            \n",
    "double_delete()"
   ]
  },
  {
   "cell_type": "code",
   "execution_count": 51,
   "metadata": {},
   "outputs": [
    {
     "data": {
      "text/plain": [
       "'НАПИШИТЕ ФУНКЦИЮ КОТОРАЯ БУДЕТ удалять'"
      ]
     },
     "execution_count": 51,
     "metadata": {},
     "output_type": "execute_result"
    }
   ],
   "source": [
    "# Вариант 3 (учитываем регистр)\n",
    "import re\n",
    "\n",
    "def double_delete():\n",
    "    text = \"\"\"НАПИШИТЕ напишите ФУНКЦИЮ функцию ФУНКЦИЮ КОТОРАЯ которая БУДЕТ будет БУДЕТ удалять УДАЛЯТЬ удалять\"\"\"\n",
    "    return re.sub(r'\\b([^\\W]+)(\\s+\\1)+\\b', r'\\1', re.sub(r'\\W+', ' ', text).strip(), flags=re.I) \n",
    "            \n",
    "double_delete()"
   ]
  },
  {
   "cell_type": "code",
   "execution_count": 8,
   "metadata": {},
   "outputs": [
    {
     "name": "stdout",
     "output_type": "stream",
     "text": [
      "{'функцию': 2, 'будет': 4, 'все': 4, 'из': 4, 'строки': 2}\n"
     ]
    }
   ],
   "source": [
    "# Считаем кол-во повторов слов\n",
    "import re\n",
    "\n",
    "text = \"\"\"Напишите функцию функцию, которая будет будет будет будет удалять все все все все \n",
    "    последовательные повторы слов из из из из заданной строки строки при помощи регулярных выражений\"\"\"\n",
    "text_list = re.sub(r'\\W+', ' ', text).strip().split()\n",
    "counter = {}\n",
    "for word in text_list:\n",
    "    counter[word] = counter.get(word, 0) + 1\n",
    "    doubles = {word: count for word, count in counter.items() if count > 1}\n",
    "print(doubles)"
   ]
  },
  {
   "cell_type": "markdown",
   "metadata": {},
   "source": [
    "### Задание 3\n",
    "(акроним)"
   ]
  },
  {
   "cell_type": "code",
   "execution_count": 6,
   "metadata": {},
   "outputs": [
    {
     "name": "stdout",
     "output_type": "stream",
     "text": [
      "Введите фразу: Информационные технологии\n",
      "ИТ\n"
     ]
    }
   ],
   "source": [
    "# Вариант 1 (с принтом)\n",
    "\n",
    "import re\n",
    "\n",
    "def acronym():\n",
    "    some_words = input('Введите фразу: ')\n",
    "    print(''.join(word[0].upper() for word in re.findall(r'\\w+', some_words))) \n",
    "\n",
    "acronym()"
   ]
  },
  {
   "cell_type": "code",
   "execution_count": 7,
   "metadata": {},
   "outputs": [
    {
     "name": "stdout",
     "output_type": "stream",
     "text": [
      "Введите фразу: Near Field Communication\n"
     ]
    },
    {
     "data": {
      "text/plain": [
       "'NFC'"
      ]
     },
     "execution_count": 7,
     "metadata": {},
     "output_type": "execute_result"
    }
   ],
   "source": [
    "# Вариант 2 (можно и так)\n",
    "\n",
    "import re\n",
    "\n",
    "def acronym():\n",
    "    some_words = input('Введите фразу: ')\n",
    "    return ''.join(word[0].upper() for word in re.findall(r'\\w+', some_words))\n",
    "acronym()"
   ]
  },
  {
   "cell_type": "markdown",
   "metadata": {},
   "source": [
    "### Задание 4\n",
    "(распределение по доменным зонам)"
   ]
  },
  {
   "cell_type": "code",
   "execution_count": 5,
   "metadata": {},
   "outputs": [
    {
     "name": "stdout",
     "output_type": "stream",
     "text": [
      "gmail.com: 2 \n",
      "test.in: 1 \n",
      "ya.ru: 2 \n",
      "mail.ru: 1\n"
     ]
    }
   ],
   "source": [
    "import re\n",
    "\n",
    "def email_domen():\n",
    "    emails = ['test@gmail.com, xyz@test.in, test@ya.ru, xyz@mail.ru, xyz@ya.ru, xyz@gmail.com']\n",
    "    emails_str = ''.join(emails) \n",
    "    gmail = len(re.findall(r'\\b\\w+@gmail.com', emails_str))\n",
    "    test = len(re.findall(r'\\b\\w+@test.in', emails_str))\n",
    "    ya = len(re.findall(r'\\b\\w+@ya.ru', emails_str))\n",
    "    mail = len(re.findall(r'\\b\\w+@mail.ru', emails_str))\n",
    "    print('gmail.com:', gmail,'\\n' 'test.in:', test,'\\n''ya.ru:', ya,'\\n''mail.ru:', mail)\n",
    "            \n",
    "email_domen()"
   ]
  },
  {
   "cell_type": "markdown",
   "metadata": {},
   "source": [
    "### Задание 5\n",
    "(гласные согласные)"
   ]
  },
  {
   "cell_type": "code",
   "execution_count": 3,
   "metadata": {},
   "outputs": [
    {
     "name": "stdout",
     "output_type": "stream",
     "text": [
      "Слов на гласную букву:  9 \n",
      "Слов на согласную букву:  20\n"
     ]
    }
   ],
   "source": [
    "import re\n",
    "\n",
    "def count_hot_cons():\n",
    "    some_text = \"\"\"Эталонной реализацией Python является интерпретатор CPython, поддерживающий большинство активно \n",
    "используемых платформ. Он распространяется под свободной лицензией Python Software Foundation License, \n",
    "позволяющей использовать его без ограничений в любых приложениях, включая проприетарные.\"\"\"\n",
    "    hot_word = len(re.findall(r'\\b[АУОЫИЭЯЮЕЁауоыиэяюеёAEIOUaeiou]\\w+', some_text))\n",
    "    cons_word = len(re.findall(r'\\b[БВГДЖЗКЛМНПРСТФХЦЧШЩбвгджзклмнпрстфхцчшщBCDFGHJKLMNPQRSTVWXYZbcdfghjklmnpqrstvwxyz]\\w+', some_text))\n",
    "    print('Слов на гласную букву: ', hot_word,'\\n' 'Слов на согласную букву: ', cons_word)\n",
    "    \n",
    "count_hot_cons()"
   ]
  }
 ],
 "metadata": {
  "kernelspec": {
   "display_name": "Python 3",
   "language": "python",
   "name": "python3"
  },
  "language_info": {
   "codemirror_mode": {
    "name": "ipython",
    "version": 3
   },
   "file_extension": ".py",
   "mimetype": "text/x-python",
   "name": "python",
   "nbconvert_exporter": "python",
   "pygments_lexer": "ipython3",
   "version": "3.8.3"
  }
 },
 "nbformat": 4,
 "nbformat_minor": 4
}
