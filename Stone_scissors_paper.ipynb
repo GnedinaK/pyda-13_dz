{
 "cells": [
  {
   "cell_type": "code",
   "execution_count": 14,
   "metadata": {},
   "outputs": [
    {
     "name": "stdout",
     "output_type": "stream",
     "text": [
      "Победил игрок 2\n",
      "Еще разок?\n"
     ]
    }
   ],
   "source": [
    "# камень - ножницы - бумага (2 живых игрока)\n",
    "\n",
    "Player_1 = 'бумага'\n",
    "Player_2 = 'ножницы'\n",
    "\n",
    "if Player_1 == Player_2:\n",
    "    print('Ничья')\n",
    "elif Player_1 == 'камень' and Player_2 == 'ножницы':\n",
    "    print('Победил игрок 1')\n",
    "elif Player_1 == 'ножницы' and Player_2 == 'камень':\n",
    "    print('Победил игрок 2')\n",
    "elif Player_1 == 'бумага' and Player_2 == 'камень':\n",
    "    print('Победил игрок 1')\n",
    "elif Player_1 == 'камень' and Player_2 == 'бумага':\n",
    "    print('Победил игрок 2')\n",
    "elif Player_1 == 'бумага' and Player_2 == 'ножницы':\n",
    "    print('Победил игрок 2')\n",
    "elif Player_1 == 'ножницы' and Player_2 == 'бумага':\n",
    "    print('Победил игрок 1')\n",
    "print('Еще разок?')"
   ]
  },
  {
   "cell_type": "code",
   "execution_count": 52,
   "metadata": {},
   "outputs": [
    {
     "name": "stdout",
     "output_type": "stream",
     "text": [
      "Ты победил\n",
      "Еще разок?\n"
     ]
    }
   ],
   "source": [
    "# камень - ножницы - бумага (игрок + компьютер)\n",
    "\n",
    "Player_1 = 'бумага'\n",
    "\n",
    "import random\n",
    "list = ['камень', 'ножницы', 'бумага']\n",
    "n = random.choice(list)\n",
    "\n",
    "\n",
    "if Player_1 == n:\n",
    "    print('Ничья')\n",
    "elif Player_1 == 'камень' and n == 'ножницы':\n",
    "    print('Ты победил')\n",
    "elif Player_1 == 'ножницы' and n == 'камень':\n",
    "    print('Победила машина')\n",
    "elif Player_1 == 'бумага' and n == 'камень':\n",
    "    print('Ты победил')\n",
    "elif Player_1 == 'камень' and n == 'бумага':\n",
    "    print('Победила машина')\n",
    "elif Player_1 == 'бумага' and n == 'ножницы':\n",
    "    print('Победила машина')\n",
    "elif Player_1 == 'ножницы' and n == 'бумага':\n",
    "    print('Ты победил')\n",
    "print('Еще разок?')"
   ]
  },
  {
   "cell_type": "code",
   "execution_count": 49,
   "metadata": {},
   "outputs": [
    {
     "name": "stdout",
     "output_type": "stream",
     "text": [
      "бумага\n"
     ]
    }
   ],
   "source": [
    "# ну и просто проверялка\n",
    "import random\n",
    "list = ['камень', 'ножницы', 'бумага']\n",
    "print(random.choice(list))"
   ]
  }
 ],
 "metadata": {
  "kernelspec": {
   "display_name": "Python 3",
   "language": "python",
   "name": "python3"
  },
  "language_info": {
   "codemirror_mode": {
    "name": "ipython",
    "version": 3
   },
   "file_extension": ".py",
   "mimetype": "text/x-python",
   "name": "python",
   "nbconvert_exporter": "python",
   "pygments_lexer": "ipython3",
   "version": "3.8.3"
  }
 },
 "nbformat": 4,
 "nbformat_minor": 4
}
